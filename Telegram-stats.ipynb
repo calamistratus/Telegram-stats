{
  "cells": [
    {
      "cell_type": "markdown",
      "metadata": {
        "id": "view-in-github",
        "colab_type": "text"
      },
      "source": [
        "<a href=\"https://colab.research.google.com/github/calamistratus/Telegram-stats/blob/main/Telegram-stats.ipynb\" target=\"_parent\"><img src=\"https://colab.research.google.com/assets/colab-badge.svg\" alt=\"Open In Colab\"/></a>"
      ]
    },
    {
      "cell_type": "code",
      "execution_count": null,
      "id": "b68aab65-e6ac-4027-86bf-ab884b23c898",
      "metadata": {
        "id": "b68aab65-e6ac-4027-86bf-ab884b23c898"
      },
      "outputs": [],
      "source": [
        "import numpy as np\n",
        "import pandas as pd\n",
        "import matplotlib.pyplot as plt\n",
        "import seaborn as sns\n",
        "import os\n",
        "\n",
        "from IPython.display import clear_output"
      ]
    },
    {
      "cell_type": "code",
      "execution_count": null,
      "id": "49a11abb-4434-4f0b-8494-94e10b10c979",
      "metadata": {
        "id": "49a11abb-4434-4f0b-8494-94e10b10c979"
      },
      "outputs": [],
      "source": [
        "plt.style.use('https://github.com/dhaitz/matplotlib-stylesheets/raw/master/pitayasmoothie-dark.mplstyle')"
      ]
    },
    {
      "cell_type": "code",
      "execution_count": null,
      "id": "92d1111c-ff81-4913-8972-ecac39e0d04d",
      "metadata": {
        "id": "92d1111c-ff81-4913-8972-ecac39e0d04d"
      },
      "outputs": [],
      "source": [
        "INPUT_MESSAGE = '''Write the path to the directory containing the DataExport\n",
        "If the input is \"No\", the current directory will be used.\n",
        "The export folder is usually located at C:\\\\Users\\\\user\\\\Downloads\\\\Telegram Desktop ,the input should be in the same format\\n'''\n",
        "\n",
        "COMMANDS = '''\n",
        "Chat Analysis Commands:\n",
        "inspect : View messages from a specific chat\n",
        "frequency : Show how active chats were over time\n",
        "time : See when messages are sent most during the day\n",
        "words : Count frequently used words with filtering options\n",
        "\n",
        "Utility Commands:\n",
        "username : Redo the username check\n",
        "numbers : List available chat numbers\n",
        "help : Show this command list\n",
        "clear : Clean the output screen\n",
        "\n",
        "Word List Commands (use words first):\n",
        "random : Outputs a random selection of words\n",
        "top : Lists the most common words\n",
        "search : View the count of a specific words\n",
        "stats : Misc word statistics\n",
        "'''"
      ]
    },
    {
      "cell_type": "code",
      "execution_count": null,
      "id": "cdb58b0d-a0d4-40ab-8e3a-b20202582ae8",
      "metadata": {
        "id": "cdb58b0d-a0d4-40ab-8e3a-b20202582ae8"
      },
      "outputs": [],
      "source": [
        "def pick_from_path(path, filename):\n",
        "    for i in os.listdir(path):\n",
        "        if filename.lower() in i.lower():\n",
        "            return os.path.join(path, i).replace('\\\\\\\\', '\\\\')\n",
        "    else:\n",
        "        raise Exception('File not found')"
      ]
    },
    {
      "cell_type": "code",
      "execution_count": null,
      "id": "24e6f111-66c3-43a5-9efe-ddc0d24197f9",
      "metadata": {
        "id": "24e6f111-66c3-43a5-9efe-ddc0d24197f9",
        "outputId": "3e74c34e-3c51-42e1-8dbc-71eec228a9b7"
      },
      "outputs": [
        {
          "name": "stdout",
          "output_type": "stream",
          "text": [
            "Write the path to the directory containing the DataExport\n",
            "If the input is \"No\", the current directory will be used.\n",
            "The export folder is usually located at C:\\Users\\user\\Downloads\\Telegram Desktop ,the input should be in the same format\n",
            "\n"
          ]
        },
        {
          "name": "stdin",
          "output_type": "stream",
          "text": [
            " \n"
          ]
        },
        {
          "name": "stdout",
          "output_type": "stream",
          "text": [
            "No DataExport in working derictory\n"
          ]
        },
        {
          "name": "stdin",
          "output_type": "stream",
          "text": [
            " C:\\Users\\schpick\\Downloads\\Telegram Desktop\n"
          ]
        },
        {
          "name": "stdout",
          "output_type": "stream",
          "text": [
            "success!\n"
          ]
        }
      ],
      "source": [
        "print(INPUT_MESSAGE)\n",
        "while True:\n",
        "    path = input().encode('unicode-escape').decode()\n",
        "    try:\n",
        "        if path.lower() == 'no' or path == '':\n",
        "            path = pick_from_path(os.getcwd(), 'dataexport')\n",
        "        else:\n",
        "            path = pick_from_path(path, 'dataexport')\n",
        "        try:\n",
        "            path = pick_from_path(path, 'result')\n",
        "            print('success!')\n",
        "            break\n",
        "        except:\n",
        "            print('Chats were not downloaded')\n",
        "    except:\n",
        "        print('No DataExport in working derictory') if path.lower() == 'no' or path == '' else print('Invalid path')"
      ]
    },
    {
      "cell_type": "code",
      "execution_count": null,
      "id": "c5ffcb1d-5fe5-40da-abe0-a37b53e2523a",
      "metadata": {
        "id": "c5ffcb1d-5fe5-40da-abe0-a37b53e2523a"
      },
      "outputs": [],
      "source": [
        "json = pd.read_json(path).loc['list']\n",
        "\n",
        "chats = json['chats'].copy()\n",
        "\n",
        "try:\n",
        "    chats.extend(json['left_chats'])\n",
        "except:\n",
        "    print('No left chats')"
      ]
    },
    {
      "cell_type": "code",
      "execution_count": null,
      "id": "a1031e25-ebeb-4d1b-b4b7-6d5b1bff360a",
      "metadata": {
        "scrolled": true,
        "id": "a1031e25-ebeb-4d1b-b4b7-6d5b1bff360a"
      },
      "outputs": [],
      "source": [
        "def get_messages(num, limit=None):\n",
        "    if limit:\n",
        "        return pd.DataFrame(chats[num]['messages'][:limit])\n",
        "    else:\n",
        "        return pd.DataFrame(chats[num]['messages'])\n",
        "\n",
        "def save_graph(fig, name):\n",
        "    save_the_plot = int(input('Do you want to save this plot? 0-No, 1-Yes'))\n",
        "    if save_the_plot:\n",
        "        path = input('Write the directory you want the picture to be saved in, current directory will be used otherwise')\n",
        "        if path == '':\n",
        "            path = os.getcwd()\n",
        "        fig.savefig(os.path.join(path, name), dpi=200, bbox_inches='tight')\n",
        "\n",
        "def input_loop(func):\n",
        "    while True:\n",
        "        try:\n",
        "            return func()\n",
        "        except:\n",
        "            print('Invalid input')\n",
        "\n",
        "def ask_num():\n",
        "    return int(input('Write the chat number '))\n",
        "\n",
        "def ask_hue():\n",
        "    return int(input('Separate frequencies by user? 0-no, 1-yes '))"
      ]
    },
    {
      "cell_type": "code",
      "execution_count": null,
      "id": "8991c9b6-9caa-46b1-a64b-07c15e55ea4b",
      "metadata": {
        "id": "8991c9b6-9caa-46b1-a64b-07c15e55ea4b"
      },
      "outputs": [],
      "source": [
        "def check_username():\n",
        "    usernames = []\n",
        "    length = len(chats)\n",
        "    for i in range(0, length, int(np.ceil(length/10))):\n",
        "        if 'from' in get_messages(i).columns:\n",
        "            if not get_messages(i)['from'] is pd.NA:\n",
        "                usernames.extend(get_messages(i).iloc[:100]['from'].unique().tolist())\n",
        "\n",
        "    username = pd.Series(usernames).value_counts().keys()[0]\n",
        "\n",
        "    print('Is', username, 'your username?')\n",
        "    answer = input('\"Yes\" or \"(nothing)\" if yes, input your username otherwise\\n')\n",
        "    if answer.lower() != 'yes' and answer:\n",
        "        username = answer\n",
        "    return username"
      ]
    },
    {
      "cell_type": "code",
      "execution_count": null,
      "id": "c71ea62d-c556-4887-9dac-f329fd62e741",
      "metadata": {
        "scrolled": true,
        "id": "c71ea62d-c556-4887-9dac-f329fd62e741"
      },
      "outputs": [],
      "source": [
        "def print_chat_numbers():\n",
        "    print('\\n Available chats:')\n",
        "    for i in range(0, length):\n",
        "        if 'from' in get_messages(i).columns:\n",
        "            if not get_messages(i)['from'] is pd.NA:\n",
        "                print(i, '|', ' | '.join([str(i) for i in get_messages(i, limit=100)['from'].unique() if str(i) != 'nan' and i != username]), '| ')\n",
        "        else:\n",
        "            print(i, '{', chats[i]['name'], '}')"
      ]
    },
    {
      "cell_type": "code",
      "execution_count": null,
      "id": "51807500-0864-4b02-891c-3d34fb17e145",
      "metadata": {
        "id": "51807500-0864-4b02-891c-3d34fb17e145"
      },
      "outputs": [],
      "source": [
        "def inspect(num, from_num, iter_count):\n",
        "    chat = get_messages(num)\n",
        "    index = from_num\n",
        "    while True:\n",
        "        for i in range(index, index + iter_count):\n",
        "            message = chat.loc[i]\n",
        "            print('From:', message['from'], '|', 'At:', message['date'], '|', 'Number:', i, '\\n', message['text'], '\\n')\n",
        "        if input('Write \"Exit\" to exit').lower() == 'exit':\n",
        "            break\n",
        "        index += iter_count\n",
        "        clear_output()"
      ]
    },
    {
      "cell_type": "code",
      "execution_count": null,
      "id": "28ad726f-8b25-44b1-bf91-02aa11590a45",
      "metadata": {
        "id": "28ad726f-8b25-44b1-bf91-02aa11590a45"
      },
      "outputs": [],
      "source": [
        "def frequency(num, use_hue):\n",
        "    messages = get_messages(num)\n",
        "    fig = plt.figure(dpi=200, figsize=(15, 5))\n",
        "    ax = fig.add_axes([0, 0, 1, 1])\n",
        "    messages['date'] = pd.to_datetime(messages['date'])\n",
        "\n",
        "    sns.kdeplot(data=messages, x='date', cut=0, hue='from' if use_hue else None, bw_adjust=.3, ax=ax)\n",
        "\n",
        "    length = len(messages)\n",
        "    messages_sent = [round((float(i) * length / 5)) * 5 for i in ax.get_yticks()]\n",
        "    ax.set_yticks([i/length for i in messages_sent], messages_sent)\n",
        "    ax.set_ylabel('Messages sent (per density unit)')\n",
        "\n",
        "    max_date, min_date = messages['date'].max(), messages['date'].min()\n",
        "    dates = np.arange(min_date, max_date + (max_date-min_date)/11, (max_date-min_date)/11)[:-1]\n",
        "    ax.set_xticks(dates)\n",
        "    ax.set_xlabel('Date')\n",
        "\n",
        "    fig1 = plt.gcf()\n",
        "    plt.show()\n",
        "\n",
        "    save_graph(fig1, f'frequency_chat_number_{num}_usehue_{use_hue}.png')"
      ]
    },
    {
      "cell_type": "code",
      "execution_count": null,
      "id": "70b9f1cd-e7ec-45f5-80d2-4a027e8748b1",
      "metadata": {
        "id": "70b9f1cd-e7ec-45f5-80d2-4a027e8748b1"
      },
      "outputs": [],
      "source": [
        "def words(num, stopwords):\n",
        "    def remove_marks(string):\n",
        "        for i in (',', '.', '?', '&', '\"', \"'\"):\n",
        "            string = string.replace(i, '')\n",
        "        return string\n",
        "\n",
        "    texts = get_messages(num)['text'].str.lower().str.split()\n",
        "\n",
        "    words = {}\n",
        "\n",
        "    for i in texts:\n",
        "        if i and type(i) != float:\n",
        "            for j in i:\n",
        "                j = remove_marks(j)\n",
        "                if not j in words.keys():\n",
        "                    words[j] = 0\n",
        "                words[j] += 1\n",
        "    words = pd.Series(words)\n",
        "    stopword_set = set()\n",
        "    match stopwords.lower():\n",
        "        case 'en':\n",
        "            from sklearn.feature_extraction._stop_words import ENGLISH_STOP_WORDS\n",
        "            stopword_set = set(ENGLISH_STOP_WORDS)\n",
        "        case 'ru':\n",
        "            stopword_set = set(pd.read_json('stopwords-ru.json')[0])\n",
        "\n",
        "    if stopword_set:\n",
        "        words = words.drop(set(words.keys()).intersection(stopword_set))\n",
        "    print('The word list is ready!')\n",
        "    return words.sort_values(ascending=False)"
      ]
    },
    {
      "cell_type": "code",
      "execution_count": null,
      "id": "ffd11289-a27f-487e-b988-4b655031ba7d",
      "metadata": {
        "id": "ffd11289-a27f-487e-b988-4b655031ba7d"
      },
      "outputs": [],
      "source": [
        "def stats(words):\n",
        "    lengths = pd.Series(test.keys()).apply(len)\n",
        "    lengths_series = pd.Series([lengths.iloc[i] * test.iloc[i] for i in range(len(lengths))])\n",
        "    print('Mean word appearence:', round(words.mean()), 'times')\n",
        "    print('Median word appearence:', words.median(), 'wimes')\n",
        "    print('Amount of one-time words:', words[words==1].sum())\n",
        "    print('Mean amount of letters in a word:', round(lengths.mean()))\n",
        "    print('Median amount of letters in a word:', lengths.median())\n",
        "    print('Amount of letters:', lengths_series.sum())"
      ]
    },
    {
      "cell_type": "code",
      "execution_count": null,
      "id": "f991b599-9cea-491d-9442-70aa2fbc3845",
      "metadata": {
        "id": "f991b599-9cea-491d-9442-70aa2fbc3845"
      },
      "outputs": [],
      "source": [
        "def time(num, use_hue):\n",
        "    def to_seconds(time):\n",
        "        result = 0\n",
        "        for i in range(3):\n",
        "            result += int(time[i]) * (60 ** (2-i))\n",
        "        return result\n",
        "\n",
        "    messages = get_messages(num)\n",
        "    fig = plt.figure(dpi=200, figsize=(15, 5))\n",
        "    ax = fig.add_axes([0, 0, 1, 1])\n",
        "    messages['date'] = pd.to_datetime(messages['date']).apply(lambda x: x.strftime('%H %M %S')).str.split().apply(to_seconds)\n",
        "\n",
        "    sns.kdeplot(data=messages, x='date', cut=0, hue='from' if use_hue else None, bw_adjust=.3, ax=ax)\n",
        "\n",
        "    ax.set_ylabel('Density of messages sent')\n",
        "\n",
        "    dates = np.linspace(0, 24*60*60, 24)\n",
        "    ax.set_xticks(dates, range(0,24))\n",
        "    ax.set_xlabel('Hours')\n",
        "\n",
        "    fig1 = plt.gcf()\n",
        "    plt.show()\n",
        "\n",
        "    save_graph(fig1, f'time_chat_number_{num}_usehue_{use_hue}.png')"
      ]
    },
    {
      "cell_type": "code",
      "execution_count": null,
      "id": "88652954-81e2-4181-81ac-0d6583ddff7c",
      "metadata": {
        "id": "88652954-81e2-4181-81ac-0d6583ddff7c",
        "outputId": "b6e1ae57-5541-4428-ff25-eca643f2e827"
      },
      "outputs": [
        {
          "name": "stdout",
          "output_type": "stream",
          "text": [
            "Hello, Marty Carlo!\n",
            "\n",
            "Chat Analysis Commands:\n",
            "inspect : View messages from a specific chat\n",
            "frequency : Show how active chats were over time\n",
            "time : See when messages are sent most during the day\n",
            "words : Count frequently used words with filtering options\n",
            "\n",
            "Utility Commands:\n",
            "username : Redo the username check\n",
            "numbers : List available chat numbers\n",
            "help : Show this command list\n",
            "clear : Clean the output screen\n",
            "\n",
            "Word List Commands (use words first):\n",
            "random : Outputs a random selection of words\n",
            "top : Lists the most common words\n",
            "search : View the count of a specific words\n",
            "stats : Misc word statistics\n",
            "\n"
          ]
        },
        {
          "name": "stdin",
          "output_type": "stream",
          "text": [
            " exit\n"
          ]
        }
      ],
      "source": [
        "username = check_username()\n",
        "words_series = pd.Series()\n",
        "clear_output()\n",
        "print('Hello, ' + username + '!')\n",
        "print(COMMANDS)\n",
        "while True:\n",
        "    match input().lower().strip():\n",
        "        case 'exit':\n",
        "            break\n",
        "\n",
        "        case 'username':\n",
        "            username = check_username()\n",
        "            print('Hello, ' + username + '!')\n",
        "\n",
        "        case 'help':\n",
        "            print(COMMANDS)\n",
        "\n",
        "        case 'clear':\n",
        "            clear_output()\n",
        "\n",
        "        case 'inspect':\n",
        "            num = input_loop(ask_num)\n",
        "            try:\n",
        "                from_num = int(input(f'Write the number of start message (out of {len(get_messages(num))}) '))\n",
        "            except:\n",
        "                print('Invalid index or no messages')\n",
        "                continue\n",
        "            iter_count = input_loop(lambda: int(input('Write how many messages should be printed per iteration ')))\n",
        "            inspect(num, from_num, iter_count)\n",
        "\n",
        "        case 'numbers':\n",
        "            print_chat_numbers()\n",
        "\n",
        "        case 'frequency':\n",
        "            num = input_loop(ask_num)\n",
        "            use_hue = input_loop(ask_hue)\n",
        "            frequency(num, use_hue)\n",
        "\n",
        "        case 'time':\n",
        "            num = input_loop(ask_num)\n",
        "            use_hue = input_loop(ask_hue)\n",
        "            time(num, use_hue)\n",
        "\n",
        "        case 'words':\n",
        "            num = input_loop(ask_num)\n",
        "            stopwords = input('Write the stopword list which should be used: en-English, ru-Russian, none-No stopwords ')\n",
        "            words_series = words(num, stopwords)\n",
        "\n",
        "        case 'random':\n",
        "            if len(words_series) > 0:\n",
        "                amount = input_loop(lambda: int(input('Write how many words should be printed ')))\n",
        "                print(words_series.sample(amount))\n",
        "            else:\n",
        "                print('Use \"words\" first')\n",
        "\n",
        "        case 'top':\n",
        "            if len(words_series) > 0:\n",
        "                amount = input_loop(lambda: int(input('Write how many words should be printed ')))\n",
        "                print(words_series.head(amount))\n",
        "            else:\n",
        "                print('Use \"words\" first')\n",
        "\n",
        "        case 'search':\n",
        "            if len(words_series) > 0:\n",
        "                word = input('Write the word you want to search for ').lower()\n",
        "                try:\n",
        "                    print(word.title(), ':', words_series[word])\n",
        "                    print(list(test.keys()).index(word), 'place')\n",
        "                except:\n",
        "                    print('Word not found, try without stopwords')\n",
        "            else:\n",
        "                print('Use \"words\" first')\n",
        "\n",
        "        case 'stats':\n",
        "            if len(words_series) > 0:\n",
        "                stats(words_series)\n",
        "            else:\n",
        "                print('Use \"words\" first')"
      ]
    }
  ],
  "metadata": {
    "kernelspec": {
      "display_name": "Python 3 (ipykernel)",
      "language": "python",
      "name": "python3"
    },
    "language_info": {
      "codemirror_mode": {
        "name": "ipython",
        "version": 3
      },
      "file_extension": ".py",
      "mimetype": "text/x-python",
      "name": "python",
      "nbconvert_exporter": "python",
      "pygments_lexer": "ipython3",
      "version": "3.13.3"
    },
    "colab": {
      "provenance": [],
      "include_colab_link": true
    }
  },
  "nbformat": 4,
  "nbformat_minor": 5
}